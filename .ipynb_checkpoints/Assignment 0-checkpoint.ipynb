{
 "cells": [
  {
   "cell_type": "markdown",
   "metadata": {
    "id": "BckUOSXHptwv"
   },
   "source": [
    "## ECBM E4040 Neural Networks and Deep Learning\n",
    "### Columbia University, Fall 2024"
   ]
  },
  {
   "cell_type": "markdown",
   "metadata": {
    "id": "OTCbBGu2ptwz"
   },
   "source": [
    "# ECBM E4040 - Assignment 0"
   ]
  },
  {
   "cell_type": "markdown",
   "metadata": {
    "id": "erLmkACPptw4"
   },
   "source": [
    "## Welcome to ECBM E4040 Neural Networks & Deep Learning\n",
    "\n",
    "This course teaches theory, concepts, modeling and programming techniques. The assignments are focused on practical coding for creating, testing and running deep learning models.\n",
    "\n",
    "The **Assignment 0** introduces our programming environment and tools, and basic TensorFlow operations.\n",
    "\n",
    "The assignment consists of the following components:\n",
    "* Programming environment setup - Google Compute Engine/local machine, Python, TensorFlow.\n",
    "* Using Jupyter Notebook\n",
    "* TensorFlow basics\n",
    "* A demo of a program written in TensorFlow\n",
    "\n",
    "<p style='color:red'>Cells marked with \"<strong>TODO</strong>\" need to be completed by students, as a part of the assignment.</p>\n",
    "\n",
    "Please consult TAs or post your problems/issues on Ed Discucssion."
   ]
  },
  {
   "cell_type": "markdown",
   "metadata": {
    "id": "H9x7wOPtptw6"
   },
   "source": [
    "## Part 1 - Setting Up the Programming Environment\n",
    "\n",
    "For this course, we use [**Python**](https://www.python.org) as the programming language, and [**TensorFlow**](https://www.tensorflow.org) as the deep learning framework.\n",
    "\n",
    "Our course website (https://ecbme4040.github.io/) provides a number of tutorials:\n",
    "* Local Environment Setup\n",
    "* Google Compute Engine (GCE) Setup on the Google Cloud Platform (GCP)\n",
    "* Python Tutorial\n",
    "* TensorFlow Tutorial\n",
    "* Linux Tutorial\n",
    "* Git Commands\n",
    "* Google Colab"
   ]
  },
  {
   "cell_type": "markdown",
   "metadata": {
    "id": "lMsvsV_oSw0C"
   },
   "source": [
    "<p style='color:red'><strong>TODO:</strong></p>\n",
    "\n",
    "This list shows an overview of what students need to do to complete the assignment. Later cells in this Jupyter notebook describe the details of the operations that need to be executed as TODO items.\n",
    "\n",
    "* Create an account on Github, and familiarize yourself both with git operations and with Github.\n",
    "\n",
    "* Execute `Assignment0.ipynb` in Colab: Fetch the `Assignment0.ipynb` file (from Github or Courseworks), upload it to Google Colab, and execute it inside the Colab environment. To do this, you need to understand Python, and the operation of Jupyter notebooks. This step is useful for a quick first execution. Keep the modified Jupyter notebook with your solutions.\n",
    "\n",
    "* Create your own Google Cloud project and virtual machine (VM) instance in the Google Cloud Platform, by following the tutorial on Google Compute Engine (GCE) Setup. This will be the main and the required mode of operation for all future assignments. **Note**: working with Google Cloud requires funding - you can initially use the $300 that everyone gets from Google, after the add/drop period you will be given codes/coupons from the instructors.\n",
    "\n",
    "* Execute (again) the `Assignment0.ipynb` within your VM in the Google Cloud. Save the resulting Jupyter Notebook. Take screenshots of the VM instance from the Google Cloud project dashboard. Take a screenshot of the Jupyter notebook when launched from google cloud. The screenshots will need to be submitted as a part of the homework to document that you have successfully launched a cloud instance. The modified Jupyter notebook which contains the populated \"TODO\" portions of the code needs to be pushed to Github as your submission.\n",
    "\n",
    "* **(Optional)** Set up your local laptop deep learning environment, following the tutorial on the Local Environment Setup. Since the use of Google Cloud requires funding, it is often useful to debug your code locally on a laptop, and to run it remotely in Google Cloud VM.\n",
    "\n",
    "* **(Optional)** Knowledge of Python, Linux and Git operations are needed for this course. Doing the tutorials is optional, depending on your prior knowledge of these topics.\n",
    "\n",
    "* **(Optional)** Tutorials on TensorFlow are extensive. As you progress with this course, they are an excellent complement to our class."
   ]
  },
  {
   "cell_type": "markdown",
   "metadata": {
    "id": "h0-p84qHptw8"
   },
   "source": [
    "## Part 2 - How to Use Jupyter Notebook - Basics\n",
    "\n",
    "Jupyter Notebook is an interactive Python programming interface. Jupyter Notebook files have a postfix `.ipynb`, and each file is made up of several blocks of code which are called **cells**. Each cell can be configured as a **coding cell** or a **markdown text cell**. Google colab is the easiest installation-free platform to run and familiarize oneself with Jupyter Notebook operations.\n",
    "\n",
    "Basic instructions:\n",
    "* The menu bars are located on the top of a notebook.\n",
    "* To execute a cell, select it, and press `ctrl + Enter`. (You may also try `shift + Enter` and `alt + Enter` to see the difference).\n",
    "* To switch between code and Markdown, select a cell, and select the mode you want in the dropdown menu in the menu bar.\n",
    "\n",
    "A full guide to Jupyter Notebook can be accessed in the *Help* menu in the menu bar."
   ]
  },
  {
   "cell_type": "code",
   "execution_count": null,
   "metadata": {
    "colab": {
     "base_uri": "https://localhost:8080/"
    },
    "id": "ih8-yaIcptw-",
    "outputId": "00d288d4-b260-4737-9441-c52df3d8d4c5"
   },
   "outputs": [
    {
     "name": "stdout",
     "output_type": "stream",
     "text": [
      "Hello Jupyter!\n"
     ]
    }
   ],
   "source": [
    "# To test that you understand how to use a coding cell, make this cell output a string 'Hello Jupyter!'.\n",
    "# We've written the code, all you need to do is to execute it.\n",
    "print('Hello Jupyter!')"
   ]
  },
  {
   "cell_type": "markdown",
   "metadata": {
    "id": "HHIrOHgHptxN"
   },
   "source": [
    "## Part 3 - TensorFlow Basics\n",
    "\n",
    "TensorFlow is one of the most popular deep learning frameworks. Originally created by Google, it has received a lot of community support. TensorFlow versions before 2.0 (until summer 2019) contained a number of detailed functions for construction of deep learning (neural network) models, and relied on a two-step process for model creation and execution.\n",
    "\n",
    "TensorFlow versions 2.0 and beyond focus on simplicity and ease of use, with updates like eager execution, intuitive Keras-based higher-level APIs, and flexible model building on any platform.\n",
    "\n",
    "In this part, we look at some basic TensorFlow concepts and operations."
   ]
  },
  {
   "cell_type": "code",
   "execution_count": null,
   "metadata": {
    "colab": {
     "base_uri": "https://localhost:8080/"
    },
    "id": "ZA_ETQgWSw0N",
    "outputId": "7a1debe6-92be-4a67-ff6a-d15da51bd289"
   },
   "outputs": [
    {
     "name": "stdout",
     "output_type": "stream",
     "text": [
      "Requirement already satisfied: matplotlib in /usr/local/lib/python3.10/dist-packages (3.7.1)\n",
      "Collecting matplotlib\n",
      "  Downloading matplotlib-3.9.2-cp310-cp310-manylinux_2_17_x86_64.manylinux2014_x86_64.whl.metadata (11 kB)\n",
      "Requirement already satisfied: contourpy>=1.0.1 in /usr/local/lib/python3.10/dist-packages (from matplotlib) (1.3.0)\n",
      "Requirement already satisfied: cycler>=0.10 in /usr/local/lib/python3.10/dist-packages (from matplotlib) (0.12.1)\n",
      "Requirement already satisfied: fonttools>=4.22.0 in /usr/local/lib/python3.10/dist-packages (from matplotlib) (4.53.1)\n",
      "Requirement already satisfied: kiwisolver>=1.3.1 in /usr/local/lib/python3.10/dist-packages (from matplotlib) (1.4.5)\n",
      "Requirement already satisfied: numpy>=1.23 in /usr/local/lib/python3.10/dist-packages (from matplotlib) (1.26.4)\n",
      "Requirement already satisfied: packaging>=20.0 in /usr/local/lib/python3.10/dist-packages (from matplotlib) (24.1)\n",
      "Requirement already satisfied: pillow>=8 in /usr/local/lib/python3.10/dist-packages (from matplotlib) (9.4.0)\n",
      "Requirement already satisfied: pyparsing>=2.3.1 in /usr/local/lib/python3.10/dist-packages (from matplotlib) (3.1.4)\n",
      "Requirement already satisfied: python-dateutil>=2.7 in /usr/local/lib/python3.10/dist-packages (from matplotlib) (2.8.2)\n",
      "Requirement already satisfied: six>=1.5 in /usr/local/lib/python3.10/dist-packages (from python-dateutil>=2.7->matplotlib) (1.16.0)\n",
      "Downloading matplotlib-3.9.2-cp310-cp310-manylinux_2_17_x86_64.manylinux2014_x86_64.whl (8.3 MB)\n",
      "\u001b[2K   \u001b[90m━━━━━━━━━━━━━━━━━━━━━━━━━━━━━━━━━━━━━━━━\u001b[0m \u001b[32m8.3/8.3 MB\u001b[0m \u001b[31m50.6 MB/s\u001b[0m eta \u001b[36m0:00:00\u001b[0m\n",
      "\u001b[?25hInstalling collected packages: matplotlib\n",
      "  Attempting uninstall: matplotlib\n",
      "    Found existing installation: matplotlib 3.7.1\n",
      "    Uninstalling matplotlib-3.7.1:\n",
      "      Successfully uninstalled matplotlib-3.7.1\n",
      "Successfully installed matplotlib-3.9.2\n",
      "matplotlib installed\n"
     ]
    }
   ],
   "source": [
    "# This cell installs matplotlib tool, directly from Jupyter Notebook.\n",
    "# Run this cell just once after removing the '#' sign before the command.\n",
    "\n",
    "!pip install --upgrade matplotlib\n",
    "print(\"matplotlib installed\")"
   ]
  },
  {
   "cell_type": "code",
   "execution_count": null,
   "metadata": {
    "colab": {
     "base_uri": "https://localhost:8080/"
    },
    "id": "Zfw8_AOlptxP",
    "outputId": "6c49efaa-be47-4a46-c1c4-c37fbfe0a618"
   },
   "outputs": [
    {
     "name": "stdout",
     "output_type": "stream",
     "text": [
      "TensorFlow Version = 2.17.0\n"
     ]
    }
   ],
   "source": [
    "# Activating TensorFlow in Jupyter Notebook\n",
    "\n",
    "# Disable some warnings, to simplify the output when running the cells\n",
    "import warnings\n",
    "warnings.simplefilter(action='ignore', category=FutureWarning)\n",
    "\n",
    "# Import the TensorFlow module\n",
    "import tensorflow as tf\n",
    "\n",
    "print('TensorFlow Version =', tf.__version__)\n",
    "\n",
    "# The following modules will be used in later parts of the assignment.\n",
    "# Make sure that you install the latest version of numpy and matplotlib (inside your conda workspace)\n",
    "# Alternatively, inside your virtual environment, use `conda install numpy`\n",
    "# and \"conda install matplotlib\" and restart the jupyter notebook.\n",
    "import numpy as np\n",
    "from matplotlib import pyplot as plt"
   ]
  },
  {
   "cell_type": "markdown",
   "metadata": {
    "id": "xqIRW2wcptxY"
   },
   "source": [
    "#### 1. Use of String Constant with TensorFlow"
   ]
  },
  {
   "cell_type": "markdown",
   "metadata": {
    "id": "FxB4Oqtvptxa"
   },
   "source": [
    "In TensorFlow 2.0 the concept of sessions (as in versions before 2.0) has been deprecated. Now, variables are accessible instantly (as compared to after `sess.run`), making this flow \"more pythonic\" in style."
   ]
  },
  {
   "cell_type": "code",
   "execution_count": null,
   "metadata": {
    "colab": {
     "base_uri": "https://localhost:8080/"
    },
    "id": "sGS6SiZJptxc",
    "outputId": "2a78fb7a-e4e7-43f8-f15b-361206dc698e"
   },
   "outputs": [
    {
     "name": "stdout",
     "output_type": "stream",
     "text": [
      "Hello TensorFlow!\n"
     ]
    }
   ],
   "source": [
    "# Example\n",
    "# Define a string constant\n",
    "string = tf.constant('Hello TensorFlow!')\n",
    "tf.print(string)"
   ]
  },
  {
   "cell_type": "markdown",
   "metadata": {
    "id": "IE5Yd4Oeptxl"
   },
   "source": [
    "<p style='color:red'><strong>TODO:</strong></p>\n",
    "\n",
    "Follow the example above and use TensorFlow to output the string \"YOUR_NAME: YOUR_UNI\"."
   ]
  },
  {
   "cell_type": "markdown",
   "metadata": {
    "id": "YlQaSaBwSw0e"
   },
   "source": [
    "<p style='color:red'><strong>SOLUTION (enter a new cell below):</strong></p>"
   ]
  },
  {
   "cell_type": "markdown",
   "metadata": {
    "id": "LSBsfBIQptx3"
   },
   "source": [
    "#### 2. Basic Maths in TensorFlow"
   ]
  },
  {
   "cell_type": "code",
   "execution_count": null,
   "metadata": {
    "colab": {
     "base_uri": "https://localhost:8080/"
    },
    "id": "Gy6l7PvLptx4",
    "outputId": "b3b819d7-7f42-4d2e-cf80-c82ac61e52a3"
   },
   "outputs": [
    {
     "name": "stdout",
     "output_type": "stream",
     "text": [
      "a = 10\n",
      "b = 20\n",
      "a + b = 30\n",
      "a - b = -10\n"
     ]
    }
   ],
   "source": [
    "# Example\n",
    "\n",
    "# Define 2 constant nodes. It is a good habit to name your nodes.\n",
    "# The name of the nodes will appear in the TensorBoard graph.\n",
    "a = tf.constant(10, dtype=tf.float32, name='a')\n",
    "b = tf.constant(20, dtype=tf.float32, name='b')\n",
    "\n",
    "# Addition and subtraction\n",
    "add = tf.add(a, b, name='add') # same as a+b\n",
    "sub = tf.subtract(a, b, name='sub') # same as a-b\n",
    "\n",
    "# There is no need for the session to run these operations (as in TensorFlow 1.*)\n",
    "tf.print(\"a =\", a)\n",
    "tf.print(\"b =\", b)\n",
    "tf.print(\"a + b =\", add)\n",
    "tf.print(\"a - b =\", sub)"
   ]
  },
  {
   "cell_type": "markdown",
   "metadata": {
    "id": "-BKpajYGptx-"
   },
   "source": [
    "<p style='color:red'><strong>TODO:</strong></p>\n",
    "\n",
    "Visit https://www.tensorflow.org/versions/r2.4/api_docs/python/tf/math, find proper operations to calculate and print:\n",
    "- `a*b` (multiplication)\n",
    "- `a/b` (division)\n",
    "- `a^b` (power)\n",
    "- `log(a)` (natural logarithm)\n",
    "\n",
    "***Note:*** `a` and `b` are defined in the previous cell, you should use them directly."
   ]
  },
  {
   "cell_type": "markdown",
   "metadata": {
    "id": "07VHHDK8Sw0n"
   },
   "source": [
    "<p style='color:red'><strong>SOLUTION (enter a new cell below):</strong></p>"
   ]
  },
  {
   "cell_type": "code",
   "execution_count": null,
   "metadata": {
    "colab": {
     "base_uri": "https://localhost:8080/"
    },
    "id": "9PxpJUgcVV-R",
    "outputId": "2bb0f175-182a-481e-a0b1-4e86f5ec4e82"
   },
   "outputs": [
    {
     "name": "stdout",
     "output_type": "stream",
     "text": [
      "226.8\n",
      "0.486111104\n",
      "1.14206085e+22\n",
      "2.35137534\n"
     ]
    }
   ],
   "source": [
    "#Node Definition\n",
    "a = tf.constant(10.5, dtype=tf.float32, name='a')\n",
    "b = tf.constant(21.6, dtype=tf.float32, name='b')\n",
    "\n",
    "#Multiplication\n",
    "mult = tf.multiply(a, b, name='mult')\n",
    "#Division\n",
    "divid = tf.divide(a, b, name='divid')\n",
    "#Power\n",
    "exp = tf.pow(a, b, name='exp')\n",
    "#Natural Logarithm\n",
    "logarithm = tf.math.log(a, name='logarithm')\n",
    "\n",
    "#Print Output\n",
    "tf.print(mult)\n",
    "tf.print(divid)\n",
    "tf.print(exp)\n",
    "tf.print(logarithm)\n"
   ]
  },
  {
   "cell_type": "markdown",
   "metadata": {
    "id": "AUY_auy5ptyF"
   },
   "source": [
    "#### 3. Constant Tensor, Sequences and Random Numbers in TensorFlow"
   ]
  },
  {
   "cell_type": "code",
   "execution_count": null,
   "metadata": {
    "colab": {
     "base_uri": "https://localhost:8080/"
    },
    "id": "eJH7b1ZLptyG",
    "outputId": "bf39076f-114d-4697-ada9-dc8698c816cd"
   },
   "outputs": [
    {
     "name": "stdout",
     "output_type": "stream",
     "text": [
      "Zero array:\n",
      " [[0 0 0]\n",
      " [0 0 0]] \n",
      "\n",
      "One array:\n",
      " [[1 1 1]\n",
      " [1 1 1]] \n",
      "\n",
      "Zero-like:\n",
      " [[0 0 0]\n",
      " [0 0 0]] \n",
      "\n",
      "One-like:\n",
      " [[1 1 1]\n",
      " [1 1 1]] \n",
      "\n",
      "Linear sequence:\n",
      " [0 1.25 2.5 3.75 5] \n",
      "\n",
      "Range:\n",
      " [0 1 2 ... 4 5 6] \n",
      "\n",
      "Random normal:\n",
      " [4.28399611 4.12089 3.09646845 5.08739185 2.42255187] \n",
      "\n"
     ]
    }
   ],
   "source": [
    "# In TensorFlow, a tensor is an n-dimensional array.\n",
    "# 0-d tensor is a scalar. 1-d tensor is a vector, and so on.\n",
    "\n",
    "# We can use TF functions to create all-zero and all-one tensors.\n",
    "zero_array = tf.zeros(shape=[2,3], dtype=tf.float32, name='zero_array')\n",
    "one_array = tf.ones(shape=[2,3], dtype=tf.float32, name='one_array')\n",
    "\n",
    "# Or use a template to infer the shape.\n",
    "template = tf.constant([[1,2,3],[4,5,6]], dtype=tf.float32, name='template') # Has [2,3] shape\n",
    "zero_like = tf.zeros_like(template, name='zero_like')\n",
    "one_like = tf.ones_like(template, name='one_like')\n",
    "\n",
    "# Some sequence generating functions\n",
    "lin_seq = tf.linspace(start=0.0, stop=5.0, num=5, name='lin_seq')\n",
    "lin_range = tf.range(start=0, limit=7, delta=1, name='lin_range')\n",
    "\n",
    "# A random number function\n",
    "norm = tf.random.normal(shape=[5], mean=3, stddev=2.0)\n",
    "\n",
    "# Printing out\n",
    "tf.print('Zero array:\\n', zero_array, '\\n')\n",
    "tf.print('One array:\\n', one_array, '\\n')\n",
    "tf.print('Zero-like:\\n', zero_like, '\\n')\n",
    "tf.print('One-like:\\n', one_like, '\\n')\n",
    "tf.print('Linear sequence:\\n', lin_seq, '\\n')\n",
    "tf.print('Range:\\n', lin_range, '\\n')\n",
    "tf.print('Random normal:\\n', norm, '\\n')"
   ]
  },
  {
   "cell_type": "markdown",
   "metadata": {
    "id": "kzQd8aDBptyJ"
   },
   "source": [
    "<p style='color:red'><strong>TODO:</strong></p>\n",
    "\n",
    "1. Generate a $3\\times 3$ matrix filled with number `8`.\n",
    "2. Generate a sequence starting from `7.0` to `-6.0` (left inclusive), with step size of `-1.0`.\n",
    "3. Generate another $3\\times 3$ matrix with normal distribution, choose any mean and stddev you like."
   ]
  },
  {
   "cell_type": "markdown",
   "metadata": {
    "id": "drGeb7roSw0u"
   },
   "source": [
    "<p style='color:red'><strong>SOLUTION (enter a new cell below):</strong></p>"
   ]
  },
  {
   "cell_type": "code",
   "execution_count": null,
   "metadata": {
    "colab": {
     "base_uri": "https://localhost:8080/"
    },
    "id": "EJGBIS2XXyTn",
    "outputId": "7b7cb61a-f56e-4bfb-d862-50a61fdbb6ae"
   },
   "outputs": [
    {
     "name": "stdout",
     "output_type": "stream",
     "text": [
      "[[8 8 8]\n",
      " [8 8 8]\n",
      " [8 8 8]]\n",
      "sequence:\n",
      " [7 6 5 ... -3 -4 -5] \n",
      "\n",
      "Matrix: \n",
      " [[2.91238427 6.99465752 6.86971283]\n",
      " [5.57141495 3.54288 4.3122735]\n",
      " [4.83753967 6.76773739 4.28481197]] \n",
      "\n"
     ]
    }
   ],
   "source": [
    "# 3x3 Matrix through TensorFlow\n",
    "matrix_one = tf.ones(shape=[3,3], dtype=tf.int32, name='matrix_one')\n",
    "tf.print(matrix_one* 8 )\n",
    "\n",
    "#Sequence in TensorFlow\n",
    "seq_1 = tf.range(start=7.0, limit=-6.0, delta=-1.0, name='seq_1')\n",
    "tf.print('sequence:\\n', seq_1, '\\n')\n",
    "\n",
    "#3x3 Matrix with normal distribution\n",
    "matrix_two = tf.random.normal(shape=[3,3], mean=5, stddev=1.5)\n",
    "tf.print('Matrix: \\n', matrix_two , '\\n')"
   ]
  },
  {
   "cell_type": "markdown",
   "metadata": {
    "id": "ap_VdFtBptyM"
   },
   "source": [
    "#### 4. Variables in TensorFlow"
   ]
  },
  {
   "cell_type": "code",
   "execution_count": null,
   "metadata": {
    "colab": {
     "base_uri": "https://localhost:8080/"
    },
    "id": "1tCS_YQIptyN",
    "outputId": "e9b53731-13d3-4cd7-e631-0dde804eb40f"
   },
   "outputs": [
    {
     "name": "stdout",
     "output_type": "stream",
     "text": [
      "Initial value: [2 3]\n",
      "Assigned value: [4 5]\n",
      "Add: [5 6]\n"
     ]
    }
   ],
   "source": [
    "# The values of constants (previously described) can not be changed.\n",
    "# For TensorFlow variables, their values can be updated during the training of a network.\n",
    "\n",
    "initial_value = tf.Variable([2,3], dtype=tf.float32) # You need to give an initial value to the variable.\n",
    "tf.print(\"Initial value:\", initial_value)\n",
    "\n",
    "# Several ops that can be used to change the value of a variable.\n",
    "# Note that they all become \"nodes\" in the computational graph.\n",
    "new_value = initial_value.assign([4,5])\n",
    "tf.print(\"Assigned value:\", new_value)\n",
    "add = initial_value.assign_add([1,1])\n",
    "tf.print(\"Add:\", add)"
   ]
  },
  {
   "cell_type": "markdown",
   "metadata": {
    "id": "DWZqSEN8ptyP"
   },
   "source": [
    "<p style='color:red'><strong>TODO:</strong></p>\n",
    "\n",
    "1. Create a $3\\times 3$ tensor variable (the initial values don't matter).\n",
    "2. Assign values from 1 to 9 to it and then add 1 to each assigned value in the $3\\times 3$ tensor.\n",
    "3. Print out (i) the initial values (ii) the new values after the assign operation."
   ]
  },
  {
   "cell_type": "markdown",
   "metadata": {
    "id": "EWF-hV1wSw02"
   },
   "source": [
    "<p style='color:red'><strong>SOLUTION (enter a new cell below):</strong></p>"
   ]
  },
  {
   "cell_type": "code",
   "execution_count": null,
   "metadata": {
    "colab": {
     "base_uri": "https://localhost:8080/"
    },
    "id": "M_KNUSRd5luu",
    "outputId": "53a38004-9614-494c-aa0f-f5be754597e8"
   },
   "outputs": [
    {
     "name": "stdout",
     "output_type": "stream",
     "text": [
      "Assigned Value:  [[1 2 3]\n",
      " [4 5 6]\n",
      " [7 8 9]]\n",
      "New Values: [[2 3 4]\n",
      " [5 6 7]\n",
      " [8 9 10]]\n"
     ]
    }
   ],
   "source": [
    "variable_1 = tf.Variable([[3,3,5],[1,2,5],[3,6,9]] , dtype=tf.float32)\n",
    "value_1 = variable_1.assign([[1,2,3],[4,5,6],[7,8,9]])\n",
    "tf.print(\"Assigned Value: \", value_1)\n",
    "add = variable_1.assign_add([[1,1,1],[1,1,1],[1,1,1]])\n",
    "tf.print(\"New Values:\", add)"
   ]
  },
  {
   "cell_type": "markdown",
   "metadata": {
    "id": "qrPrL1vuptyX"
   },
   "source": [
    "#### 5. Impact of Data Types"
   ]
  },
  {
   "cell_type": "code",
   "execution_count": null,
   "metadata": {
    "colab": {
     "base_uri": "https://localhost:8080/"
    },
    "id": "i0Hi6z_PptyX",
    "outputId": "8a289444-0f9e-4738-862d-2239e368a102"
   },
   "outputs": [
    {
     "name": "stdout",
     "output_type": "stream",
     "text": [
      "Results with float32: \n",
      " [[ 1.44      4.84     10.240001]\n",
      " [17.639997 27.039997 38.44    ]] \n",
      "\n",
      "Results with float64: \n",
      " [[ 1.44  4.84 10.24]\n",
      " [17.64 27.04 38.44]] \n",
      "\n"
     ]
    }
   ],
   "source": [
    "# In TensorFlow, the float type of data includes float32 and float64.\n",
    "# In later assignments, you should ALWAYS consider float32 as the first choice for the sake of efficiency,\n",
    "# even though the precision is lower than for float64.\n",
    "\n",
    "# Here we compare the precision difference between these two types.\n",
    "a32 = tf.Variable([[1,2,3],[4,5,6]], dtype=tf.float32)\n",
    "b32 = (a32 + 0.2) ** 2\n",
    "a64 = tf.Variable([[1,2,3],[4,5,6]], dtype=tf.float64)\n",
    "b64 = (a64 + 0.2) ** 2\n",
    "\n",
    "tf.print('Results with float32: \\n {}'.format(b32), '\\n')\n",
    "tf.print('Results with float64: \\n {}'.format(b64), '\\n')"
   ]
  },
  {
   "cell_type": "markdown",
   "metadata": {
    "id": "Uqv2PgZWu_tR"
   },
   "source": [
    "#### 6. Distance Calculation"
   ]
  },
  {
   "cell_type": "markdown",
   "metadata": {
    "id": "690gKbVd5fZT"
   },
   "source": [
    "The most conventional way to measure the distance between two points in an $n$-dimensional space is to use the Euclidean distance. Given two points (vectors) $p, q \\in  R^n$, the Euclidean distance is expressed as\n",
    "$$\n",
    "d(p, q) = \\sqrt{\\sum_{i=1}^{n}(q_i - p_i)^2}\n",
    "$$\n",
    "\n",
    "In terms of linear algebra, the associated norm is called the Euclidean norm. The vectorized notation for the Euclidean norm of a vector $x = (x_1, x_2, ... x_N)$ is defined as\n",
    "$$\n",
    "\\begin{align}\n",
    "& \\|\\cdot\\|: R^n \\to [0, +\\inf) \\\\\n",
    "& \\|x\\| = \\sqrt{x_1^2 + \\dots + x_n^2}\n",
    "\\end{align}\n",
    "$$\n",
    "\n",
    "Broadly speaking, the so-called Euclidean norm is one of a class of **Lebesgue space** norms, called $L^p$ norms. The Euclidean norm is in fact the $L^2$ norm. The $L^p$ norms are defined in a similar fashion to the $L^2$ norm. Indeed, they are generalized from the $L^2$ norm.\n",
    "\n",
    "For a real number $p \\ge 1$, the p-norm ($L^p$ norm) of vector $x$ is defined as:\n",
    "$$\n",
    "\\|x\\|_p = (|x_1|^p + |x_2|^p + \\dots + |x_n|^p)^{1/p}\n",
    "$$\n",
    "\n",
    "One can see that for $p = 2$, we get the $L^2$/Euclidean norm.\n",
    "\n",
    "In this course, we will also encounter the $L^1$ norm. The associated distance metric is often called the **Manhattan distance** or the **taxicab-distance**. For a vector $x = (x_1, \\dots x_n)$, the $L^1$ norm simplifies to\n",
    "$$\n",
    "||x||_1 = |x_1| + |x_2| + \\dots + |x_n|\n",
    "$$\n",
    "\n",
    "In keeping with this notation, the $L^1$ distance between two vectors $p$ and $q$ can be therefore be written as\n",
    "$$\n",
    "d'(p, q) = \\|p - q\\|_1 = \\sum_{i=1}^n |p_i - q_i|\n",
    "$$"
   ]
  },
  {
   "cell_type": "markdown",
   "metadata": {
    "id": "oGYIKS6vHf04"
   },
   "source": [
    "**NOTE**:\n",
    "\n",
    "The p-norms (e.g. Manhattan norm, Euclidean norm) are actually vector norms and are defined on vectors only.\n",
    "\n",
    "When you call the `np.linalg.norm` ([docs](https://numpy.org/doc/stable/reference/generated/numpy.linalg.norm.html?highlight=norm#numpy.linalg.norm)) function on a **matrix**, you are computing the [**matrix norm**](https://en.wikipedia.org/wiki/Matrix_norm). In `numpy`, it is a [Frobenius norm](https://mathworld.wolfram.com/FrobeniusNorm.html) by default and an $L^1$ norm when specifying the argument `ord=1`. These are actually the correct norms for matrices in theory.\n",
    "\n",
    "However, TensorFlow is abusing the definitions a little bit here. When the argument `axis` is unspecified (or specifying `axis=None`), TensorFlow will treat the input as a **1D vector** regardless of the original shape (which means that any tensor that has more than one dimension will be **flattened out** before computation).\n",
    "\n",
    "So for the purposes of the below **TODO** task, pretend that you are asked to compute the \"flattened\" vector norms."
   ]
  },
  {
   "cell_type": "code",
   "execution_count": null,
   "metadata": {
    "colab": {
     "base_uri": "https://localhost:8080/"
    },
    "id": "3wUaL-C3vC-1",
    "outputId": "0c225ca1-0b83-4104-c903-95fa9f22d9f9"
   },
   "outputs": [
    {
     "name": "stdout",
     "output_type": "stream",
     "text": [
      "Euclidean distance: 3.1622777\n",
      "Manhattan distance: 6\n"
     ]
    }
   ],
   "source": [
    "# Distance Calculation\n",
    "#\n",
    "# Create a tensor among the following types : float32, float64, complex64, complex128\n",
    "# Mentioned link details the meaning of each variable: https://www.tensorflow.org/versions/r2.4/api_docs/python/tf/norm\n",
    "\n",
    "# Create two tensors of shape 2x3.\n",
    "tensor_a = tf.constant([[1,2,3], [3,2,1]], dtype=tf.float32, name='template_a')\n",
    "tensor_b = tf.constant([[1,1,1], [1,1,1]], dtype=tf.float32, name='template_b')\n",
    "\n",
    "# 1. Calculating Euclidean distance or the L2 norm.\n",
    "\n",
    "eucledian_distance = tf.norm(tensor_a - tensor_b, ord='euclidean', axis=None, keepdims=None)\n",
    "tf.print(\"Euclidean distance:\", eucledian_distance)\n",
    "\n",
    "# 2. Calculating the Manhattan distance or the L1 norm\n",
    "manhattan_distance = tf.norm(tensor_a - tensor_b, ord=1, axis=None, keepdims=None)\n",
    "tf.print(\"Manhattan distance:\", manhattan_distance)"
   ]
  },
  {
   "cell_type": "markdown",
   "metadata": {
    "id": "2PQdsHs-vMkO"
   },
   "source": [
    "<p style='color:red'><strong>TODO:</strong></p>\n",
    "\n",
    "Create two functions using `numpy` which will return the Euclidean distance and Manhattan distance between the above tensors. Print their outputs."
   ]
  },
  {
   "cell_type": "markdown",
   "metadata": {
    "id": "eAn055uiSw1A"
   },
   "source": [
    "<p style='color:red'><strong>SOLUTION (enter a new cell below):</strong></p>"
   ]
  },
  {
   "cell_type": "code",
   "execution_count": null,
   "metadata": {
    "colab": {
     "base_uri": "https://localhost:8080/"
    },
    "id": "T32LOijyIF4H",
    "outputId": "11b57834-a78f-4c6b-a30b-d6dbc1191f1a"
   },
   "outputs": [
    {
     "name": "stdout",
     "output_type": "stream",
     "text": [
      "Euclidean Distance:  3.1622777\n",
      "Manhattan Distance:  6.0\n"
     ]
    }
   ],
   "source": [
    "#Numpy function for Euclidean Distance\n",
    "def euclidean_dist(tensor_a, tensor_b):\n",
    "    array_a = tensor_a.numpy()\n",
    "    array_b = tensor_b.numpy()\n",
    "    distance = np.sqrt(np.sum(np.square(array_a - array_b), axis=None ))\n",
    "    return distance\n",
    "\n",
    "distance = euclidean_dist(tensor_a, tensor_b)\n",
    "print(\"Euclidean Distance: \", distance)\n",
    "\n",
    "def manhattan_dist(tensor_a,tensor_b):\n",
    "    array_a = tensor_a.numpy()\n",
    "    array_b = tensor_b.numpy()\n",
    "    mdistance = np.sum(np.abs(array_a - array_b), axis=None)\n",
    "    manhat_distance = np.sum(mdistance)\n",
    "    return manhat_distance\n",
    "\n",
    "mdistance = manhattan_dist(tensor_a, tensor_b)\n",
    "print(\"Manhattan Distance: \", mdistance)\n"
   ]
  },
  {
   "cell_type": "markdown",
   "metadata": {
    "id": "sTiqq8_5wCUh"
   },
   "source": [
    "We have introduced only the basic TensorFlow operations and concepts. We recommend that you visit the TensorFlow tutorial link (https://www.tensorflow.org/tutorials) for many more. You will need them to be able to efficiently build and execute deep learning models."
   ]
  },
  {
   "cell_type": "markdown",
   "metadata": {
    "id": "HC0SVT8owOVP"
   },
   "source": [
    "## Part 4 - TensorFlow Demos\n",
    "Part 4 of this assignment consists of a demo. All you need to do is to run the demos and observe the results. This is meant to give you an idea of how TensorFlow is used.\n",
    "\n",
    "Please run the code and look at the outputs. We do not ask you to fully understand the model at this point. However, it would be a good practice if you searched [www.tensorflow.org](https://www.tensorflow.org) to examine the functions which are used in the code. They will be really helpful when you start programming by yourself."
   ]
  },
  {
   "cell_type": "markdown",
   "metadata": {
    "id": "UtBIkiexwTPz"
   },
   "source": [
    "### Demo 1: Multiclass Logistic Regression\n",
    "#### Loading and preparing the MNIST dataset"
   ]
  },
  {
   "cell_type": "code",
   "execution_count": null,
   "metadata": {
    "colab": {
     "base_uri": "https://localhost:8080/"
    },
    "id": "l215pkxyeLJo",
    "outputId": "bec0b857-97e3-4fde-d100-9b4ab01b712a"
   },
   "outputs": [
    {
     "name": "stdout",
     "output_type": "stream",
     "text": [
      "Downloading data from https://storage.googleapis.com/tensorflow/tf-keras-datasets/mnist.npz\n",
      "\u001b[1m11490434/11490434\u001b[0m \u001b[32m━━━━━━━━━━━━━━━━━━━━\u001b[0m\u001b[37m\u001b[0m \u001b[1m1s\u001b[0m 0us/step\n",
      "Cell executed. Move to the next cell.\n"
     ]
    }
   ],
   "source": [
    "# Multi-class Logistic Regression\n",
    "\n",
    "from tensorflow.keras.datasets import mnist\n",
    "\n",
    "# Load dataset\n",
    "(x_train, y_train), (x_test, y_test) = mnist.load_data()\n",
    "\n",
    "# Convert to float32.\n",
    "x_train, x_test = np.array(x_train, np.float32), np.array(x_test, np.float32)\n",
    "\n",
    "# Flatten images to 1-D vector of 784 features (28*28, which is the size of the images in MNIST).\n",
    "num_features = 28 * 28\n",
    "x_train, x_test = x_train.reshape([-1, num_features]), x_test.reshape([-1, num_features])\n",
    "\n",
    "# Normalize values into [0, 1].\n",
    "x_train, x_test = x_train / 255., x_test / 255.\n",
    "\n",
    "print(\"Cell executed. Move to the next cell.\")"
   ]
  },
  {
   "cell_type": "markdown",
   "metadata": {
    "id": "rqE8eRYPSw1D"
   },
   "source": [
    "#### Setting up hyperparameters and dataset parameters"
   ]
  },
  {
   "cell_type": "code",
   "execution_count": null,
   "metadata": {
    "colab": {
     "base_uri": "https://localhost:8080/"
    },
    "id": "DGiHxRa-Sw1E",
    "outputId": "1b3bf0d9-2ee9-4287-8be9-e33a451c57f7"
   },
   "outputs": [
    {
     "name": "stdout",
     "output_type": "stream",
     "text": [
      "Cell executed. Move to the next cell.\n"
     ]
    }
   ],
   "source": [
    "# MNIST dataset parameters\n",
    "num_classes = 10 # 0 to 9 digits\n",
    "num_features = 784 # 28*28\n",
    "\n",
    "# Training parameters\n",
    "learning_rate = 0.005\n",
    "training_steps = 500\n",
    "batch_size = 256\n",
    "display_step = 100\n",
    "\n",
    "print(\"Cell executed. Move to the next cell.\")"
   ]
  },
  {
   "cell_type": "markdown",
   "metadata": {
    "id": "TdS7dXufSw1F"
   },
   "source": [
    "#### Shuffling and Batching the data"
   ]
  },
  {
   "cell_type": "code",
   "execution_count": null,
   "metadata": {
    "colab": {
     "base_uri": "https://localhost:8080/"
    },
    "id": "bFYK4LijSw1G",
    "outputId": "bb374d64-178f-4e59-b97e-958fc6eaa996"
   },
   "outputs": [
    {
     "name": "stdout",
     "output_type": "stream",
     "text": [
      "Cell executed. Move to the next cell.\n"
     ]
    }
   ],
   "source": [
    "# Using tf.data API to shuffle and batch data.\n",
    "train_data = tf.data.Dataset.from_tensor_slices((x_train,y_train))\n",
    "\n",
    "train_data = train_data.repeat().shuffle(5000).batch(batch_size).prefetch(1)\n",
    "print(\"Cell executed. Move to the next cell.\")"
   ]
  },
  {
   "cell_type": "markdown",
   "metadata": {
    "id": "nlczIrIGSw1I"
   },
   "source": [
    "#### Initializing weights and biases"
   ]
  },
  {
   "cell_type": "code",
   "execution_count": null,
   "metadata": {
    "colab": {
     "base_uri": "https://localhost:8080/"
    },
    "id": "CRj1SLvzSw1I",
    "outputId": "185f2fde-317d-4496-8cd0-678c57864b31"
   },
   "outputs": [
    {
     "name": "stdout",
     "output_type": "stream",
     "text": [
      "Cell executed. Move to the next cell.\n"
     ]
    }
   ],
   "source": [
    "# Weight of shape [784, 10], the 28*28 image features, and a total number of classes.\n",
    "w = tf.Variable(tf.ones([num_features, num_classes]), name=\"weight\")\n",
    "\n",
    "# Bias of shape [10], the total number of classes.\n",
    "b = tf.Variable(tf.zeros([num_classes]), name=\"bias\")\n",
    "\n",
    "print(\"Cell executed. Move to the next cell.\")"
   ]
  },
  {
   "cell_type": "markdown",
   "metadata": {
    "id": "bsi9KCsYSw1K"
   },
   "source": [
    "#### Defining Logistic Regression and Cost function"
   ]
  },
  {
   "cell_type": "code",
   "execution_count": null,
   "metadata": {
    "colab": {
     "base_uri": "https://localhost:8080/"
    },
    "id": "BaOKjAZoSw1K",
    "outputId": "0a1b50ee-1eaa-4b6d-fae6-3813e7945d6e"
   },
   "outputs": [
    {
     "name": "stdout",
     "output_type": "stream",
     "text": [
      "Cell executed. Move to the next cell.\n"
     ]
    }
   ],
   "source": [
    "# Logistic regression (x@w + b).\n",
    "def logistic_regression(x):\n",
    "    # Apply softmax to normalize the logits to a probability distribution.\n",
    "    return tf.nn.softmax(tf.matmul(x, w) + b)\n",
    "\n",
    "# Cross-Entropy loss function.\n",
    "def cross_entropy(y_pred, y_true):\n",
    "    # Encode label to an one hot vector.\n",
    "    y_true = tf.one_hot(y_true, depth=num_classes)\n",
    "\n",
    "    # Clip prediction values to avoid log(0) error.\n",
    "    y_pred = tf.clip_by_value(y_pred, 1e-9, 1.)\n",
    "\n",
    "    # Compute cross-entropy.\n",
    "    return tf.reduce_mean(-tf.reduce_sum(y_true * tf.math.log(y_pred), axis=1))\n",
    "\n",
    "print(\"Cell executed. Move to the next cell.\")"
   ]
  },
  {
   "cell_type": "markdown",
   "metadata": {
    "id": "Wa53EQ-OSw1L"
   },
   "source": [
    "#### Defining Optimizers and Accuracy Metrics"
   ]
  },
  {
   "cell_type": "code",
   "execution_count": null,
   "metadata": {
    "colab": {
     "base_uri": "https://localhost:8080/"
    },
    "id": "tcgF_CtpSw1M",
    "outputId": "d54276ca-0b1f-44d7-f8eb-e434bdcfe01f"
   },
   "outputs": [
    {
     "name": "stdout",
     "output_type": "stream",
     "text": [
      "Cell executed. Move to the next cell.\n"
     ]
    }
   ],
   "source": [
    "# Accuracy metric.\n",
    "def accuracy(y_pred, y_true):\n",
    "    # Predicted class is the index of the highest score in prediction vector (i.e. argmax).\n",
    "    correct_prediction = tf.equal(tf.argmax(y_pred, 1), tf.cast(y_true, tf.int64))\n",
    "\n",
    "    return tf.reduce_mean(tf.cast(correct_prediction, tf.float32))\n",
    "\n",
    "# Stochastic gradient descent optimizer.\n",
    "optimizer = tf.optimizers.SGD(learning_rate)\n",
    "\n",
    "print(\"Cell executed. Move to the next cell.\")"
   ]
  },
  {
   "cell_type": "markdown",
   "metadata": {
    "id": "ph2IWd6YSw1N"
   },
   "source": [
    "#### Optimization process and Updating Weights and Biases"
   ]
  },
  {
   "cell_type": "code",
   "execution_count": null,
   "metadata": {
    "colab": {
     "base_uri": "https://localhost:8080/"
    },
    "id": "I-Zs0aACSw1O",
    "outputId": "c287c52d-318f-4a83-f003-bcb0300e76a2"
   },
   "outputs": [
    {
     "name": "stdout",
     "output_type": "stream",
     "text": [
      "Cell executed. Move to the next cell.\n"
     ]
    }
   ],
   "source": [
    "# Optimization process.\n",
    "\n",
    "def run_optimization(x, y):\n",
    "    # Wrap computation inside a GradientTape for automatic differentiation.\n",
    "    with tf.GradientTape() as g:\n",
    "        pred = logistic_regression(x)\n",
    "        loss = cross_entropy(pred, y)\n",
    "\n",
    "    # Compute gradients.\n",
    "    gradients = g.gradient(loss, [w, b])\n",
    "\n",
    "    # Update W and b following gradients.\n",
    "    optimizer.apply_gradients(zip(gradients, [w, b]))\n",
    "\n",
    "# printf\n",
    "print(\"Cell executed. Move to the next cell.\")"
   ]
  },
  {
   "cell_type": "markdown",
   "metadata": {
    "id": "XAlXhsl0Sw1P"
   },
   "source": [
    "#### Training loop"
   ]
  },
  {
   "cell_type": "code",
   "execution_count": null,
   "metadata": {
    "colab": {
     "base_uri": "https://localhost:8080/"
    },
    "id": "bPtoLWX4Sw1P",
    "outputId": "b411e992-12c1-458f-9d1c-c55dad84fc76"
   },
   "outputs": [
    {
     "name": "stdout",
     "output_type": "stream",
     "text": [
      "This cell should run and show output for 500 steps. Running ...\n",
      "step: 100, loss: 1.842483, accuracy: 0.769531\n",
      "step: 200, loss: 1.543248, accuracy: 0.769531\n",
      "step: 300, loss: 1.348818, accuracy: 0.812500\n",
      "step: 400, loss: 1.214774, accuracy: 0.808594\n",
      "step: 500, loss: 1.006110, accuracy: 0.847656\n",
      "Cell executed. Move to the next cell.\n"
     ]
    }
   ],
   "source": [
    "# Run training for the given number of steps.\n",
    "print(\"This cell should run and show output for 500 steps. Running ...\")\n",
    "\n",
    "for step, (batch_x, batch_y) in enumerate(train_data.take(training_steps), 1):\n",
    "    # Run the optimization to update W and b values.\n",
    "    run_optimization(batch_x, batch_y)\n",
    "    if step % display_step == 0:\n",
    "        pred = logistic_regression(batch_x)\n",
    "        loss = cross_entropy(pred, batch_y)\n",
    "        acc = accuracy(pred, batch_y)\n",
    "        print(\"step: %i, loss: %f, accuracy: %f\" % (step, loss, acc))\n",
    "\n",
    "print(\"Cell executed. Move to the next cell.\")"
   ]
  },
  {
   "cell_type": "markdown",
   "metadata": {
    "id": "AJ3nnz3ySw1R"
   },
   "source": [
    "#### Testing model accuracy using the testing data"
   ]
  },
  {
   "cell_type": "code",
   "execution_count": null,
   "metadata": {
    "colab": {
     "base_uri": "https://localhost:8080/"
    },
    "id": "HfNo8-FaSw1R",
    "outputId": "ec465c31-9285-4724-c1fc-ff885da8627e"
   },
   "outputs": [
    {
     "name": "stdout",
     "output_type": "stream",
     "text": [
      "Test Accuracy: 0.824900\n"
     ]
    }
   ],
   "source": [
    "# Test model on validation set.\n",
    "pred = logistic_regression(x_test)\n",
    "print(\"Test Accuracy: %f\" % accuracy(pred, y_test))"
   ]
  },
  {
   "cell_type": "markdown",
   "metadata": {
    "id": "yw34fVUVweHt"
   },
   "source": [
    "## Part 5 - Organizing the Code for Development of Deep Learning Models\n",
    "\n",
    "This assignment was distributed as a collection of directories and files (either through the Github or a collection of files in a `*.zip` package).\n",
    "\n",
    "The organization of directories and files is described in the corresponding README.md file, and illustrated below as well:\n",
    "\n",
    "<p style='color:red'><strong>TODO:</strong></p> Study the organization of directories and files for this assignment\n",
    "\n",
    "In particular examine the way in which Jupyter notebook files and utility Python files are distributed across directories. Students will be required to follow this (or very similar) directory structure for their assignments and projects. For every project/assignment, a similar tree structure needs to be generated and appended to the README.md file.\n",
    "\n",
    "A typical organization of the top directory can be seen at the end of the `README.md` file."
   ]
  },
  {
   "cell_type": "markdown",
   "metadata": {
    "id": "ZHZ-42frSw1T"
   },
   "source": [
    "### Steps to create and visualize the tree-like directory structure:\n",
    "\n",
    "<p style='color:red'><strong>For Linux:</strong></p>\n",
    "\n",
    "1. Go to the directory for which you want to create and visualize the tree structure for.\n",
    "2. Type `tree ./ >> README.md` in the terminal (or `!tree ./ >> README.md` a Jupyter Notebook cell) - this will append the tree to the `README.md` file in the same directory.\n",
    "3. After running the above command, go to the `README.md` file and **manually** enclose the appended directory structure text in 3 inverted quote \"```\" (you may refer to the provided example in `README.md`).\n",
    "\n",
    "<p style='color:red'><strong>For Windows:</strong></p>\n",
    "\n",
    "1. Replace the above command with `tree ./ /f /a >> README.md`.\n",
    "2. After running the above command, go to the `README.md` and remove the lines that look like: `Folder PATH listing for volume DATA Volume serial number is 0A8A-1CBE D:\\CA_4040\\MASTER_BRANCH\\e4040-2024fall-assign0`.\n",
    "\n",
    "**Note:** The two chevrons `>>` are used to append the output of a command to the bottom of a file (instead of one chevron `>` which overwrites the whole file)."
   ]
  },
  {
   "cell_type": "markdown",
   "metadata": {
    "id": "5Klm1x5fSw1T"
   },
   "source": [
    "## Submission of the Assignment\n",
    "\n",
    "The method of the submission and the naming are described in the `README.md` file, distributed in Github. For formal submission, additional instructions will be provided a few days before the assignment is due."
   ]
  },
  {
   "cell_type": "markdown",
   "metadata": {
    "id": "N6y2_8vww0oN"
   },
   "source": [
    "## End of the assignment"
   ]
  },
  {
   "cell_type": "code",
   "execution_count": null,
   "metadata": {
    "colab": {
     "base_uri": "https://localhost:8080/"
    },
    "id": "1jvAPPR4Hf08",
    "outputId": "30fdc30e-9d51-4e6d-ac2b-c15e3ef734b2"
   },
   "outputs": [
    {
     "name": "stdout",
     "output_type": "stream",
     "text": [
      "/bin/bash: line 1: tree: command not found\n"
     ]
    }
   ],
   "source": [
    "sudo apt-get install tree\n",
    "tree ./ >> README.md"
   ]
  },
  {
   "cell_type": "code",
   "execution_count": null,
   "metadata": {
    "id": "4pGq32OTHf09"
   },
   "outputs": [],
   "source": []
  }
 ],
 "metadata": {
  "colab": {
   "provenance": [],
   "toc_visible": true
  },
  "kernelspec": {
   "display_name": "Python 3",
   "language": "python",
   "name": "python3"
  },
  "language_info": {
   "codemirror_mode": {
    "name": "ipython",
    "version": 3
   },
   "file_extension": ".py",
   "mimetype": "text/x-python",
   "name": "python",
   "nbconvert_exporter": "python",
   "pygments_lexer": "ipython3",
   "version": "3.6.9"
  },
  "vscode": {
   "interpreter": {
    "hash": "b0fa6594d8f4cbf19f97940f81e996739fb7646882a419484c72d19e05852a7e"
   }
  }
 },
 "nbformat": 4,
 "nbformat_minor": 0
}
